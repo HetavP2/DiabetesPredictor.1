{
 "cells": [
  {
   "cell_type": "markdown",
   "id": "3bbde711",
   "metadata": {},
   "source": [
    "uses Pima Indians Diabetes Database\n",
    "https://www.kaggle.com/datasets/uciml/pima-indians-diabetes-database\n",
    "\n",
    "Supervised learning\n",
    "Binary logistic regression + Neural Network\n"
   ]
  },
  {
   "cell_type": "code",
   "execution_count": null,
   "id": "f26cd416",
   "metadata": {},
   "outputs": [],
   "source": [
    "# import libraries\n",
    "import numpy, pandas, matplotlib\n",
    "\n",
    "from sklearn.preprocessing import StandardScaler\n",
    "from imblearn.over_sampling import RandomOverSampler\n",
    "from sklearn.linear_model import LogisticRegression\n",
    "from sklearn.metrics import accuracy_score, classification_report\n",
    "import tensorflow"
   ]
  },
  {
   "cell_type": "code",
   "execution_count": null,
   "id": "b1be706a",
   "metadata": {},
   "outputs": [],
   "source": [
    "# read csv\n",
    "df = pandas.read_csv(\"diabetes.csv\")\n",
    "df.head() #prints first 5 rows \n"
   ]
  },
  {
   "cell_type": "code",
   "execution_count": null,
   "id": "677b6871",
   "metadata": {},
   "outputs": [],
   "source": [
    "#graphing to see trends per label\n",
    "# cols = df.columns.tolist()  \n",
    "# feature_cols = cols[:-1]    \n",
    "\n",
    "# for feature in feature_cols:\n",
    "#     matplotlib.pyplot.hist(\n",
    "#         df[df[\"Outcome\"] == 1][feature],\n",
    "#         color='blue',\n",
    "#         label='Diabetes (1)',\n",
    "#         alpha=0.7,\n",
    "#         density=True\n",
    "#     )\n",
    "#     matplotlib.pyplot.hist(\n",
    "#         df[df[\"Outcome\"] == 0][feature],\n",
    "#         color='red',\n",
    "#         label='No Diabetes (0)',\n",
    "#         alpha=0.7,\n",
    "#         density=True\n",
    "#     )\n",
    "#     matplotlib.pyplot.title(feature)\n",
    "#     matplotlib.pyplot.ylabel(\"Probability\")\n",
    "#     matplotlib.pyplot.xlabel(feature)\n",
    "#     matplotlib.pyplot.legend()\n",
    "#     matplotlib.pyplot.show()"
   ]
  },
  {
   "cell_type": "markdown",
   "id": "47d01c6b",
   "metadata": {},
   "source": [
    "DATA SEPARATION\n"
   ]
  },
  {
   "cell_type": "code",
   "execution_count": null,
   "id": "e7ec3e63",
   "metadata": {},
   "outputs": [],
   "source": [
    "# split data into x and y (pregnancies - age: x; outcome: y)\n",
    "y = df['Outcome']\n",
    "x = df.drop('Outcome', axis=1)\n",
    "\n",
    "# separate data to get training, valid and test set\n",
    "# 70% train, 20% valid, remain=10% test\n",
    "train, valid, test = numpy.split(df.sample(frac=1), [int(0.7*len(df)), int(0.9*len(df))])\n",
    "\n",
    "# ensure the features (x) have zero mean and unit variance so each feature contributes equally and having no bias\n",
    "# Oversampling prevents class imbalances by generating synthetic data - no bias towards majority class\n",
    "def scale_ds(dataframe, over_sample=False):\n",
    "    x=dataframe[dataframe.columns[:-1]].values\n",
    "    y=dataframe[dataframe.columns[-1]].values\n",
    "\n",
    "    scaler = StandardScaler()\n",
    "    x = scaler.fit_transform(x)\n",
    "\n",
    "    if over_sample:\n",
    "        ros= RandomOverSampler()\n",
    "        x, y = ros.fit_resample(x, y)\n",
    "\n",
    "    data = numpy.hstack((x, numpy.reshape(y, (-1, 1))))\n",
    "\n",
    "    return data, x, y\n",
    "\n",
    "# separate into different datasets\n",
    "train, x_train, y_train = scale_ds(train, over_sample=True)\n",
    "valid, x_valid, y_valid = scale_ds(valid, over_sample=False)\n",
    "test, x_test, y_test = scale_ds(test, over_sample=False)"
   ]
  },
  {
   "cell_type": "markdown",
   "id": "f3ba5552",
   "metadata": {},
   "source": [
    "TRAIN LOGISTIC REGRESSION MODEL AND PREDICT"
   ]
  },
  {
   "cell_type": "code",
   "execution_count": 41,
   "id": "a5d43f76",
   "metadata": {},
   "outputs": [
    {
     "name": "stdout",
     "output_type": "stream",
     "text": [
      "Train Accuracy: 0.7522\n",
      "Train Classification Report:\n",
      "               precision    recall  f1-score   support\n",
      "\n",
      "           0       0.74      0.77      0.76       347\n",
      "           1       0.76      0.73      0.75       347\n",
      "\n",
      "    accuracy                           0.75       694\n",
      "   macro avg       0.75      0.75      0.75       694\n",
      "weighted avg       0.75      0.75      0.75       694\n",
      "\n",
      "Validation Accuracy: 0.7338\n",
      "Validation Classification Report:\n",
      "               precision    recall  f1-score   support\n",
      "\n",
      "           0       0.84      0.73      0.78        99\n",
      "           1       0.60      0.75      0.67        55\n",
      "\n",
      "    accuracy                           0.73       154\n",
      "   macro avg       0.72      0.74      0.72       154\n",
      "weighted avg       0.75      0.73      0.74       154\n",
      "\n",
      "Test Accuracy: 0.6883\n",
      "Test Classification Report:\n",
      "               precision    recall  f1-score   support\n",
      "\n",
      "           0       0.86      0.67      0.75        54\n",
      "           1       0.49      0.74      0.59        23\n",
      "\n",
      "    accuracy                           0.69        77\n",
      "   macro avg       0.67      0.70      0.67        77\n",
      "weighted avg       0.75      0.69      0.70        77\n",
      "\n"
     ]
    }
   ],
   "source": [
    "# build model\n",
    "log_reg_model = LogisticRegression(max_iter=100, random_state=42)\n",
    "log_reg_model.fit(x_train, y_train)\n",
    "\n",
    "#predict\n",
    "y_train_pred = log_reg_model.predict(x_train)\n",
    "train_acc = accuracy_score(y_train, y_train_pred)\n",
    "print(\"Train Accuracy:\", round(train_acc, 4))\n",
    "print(\"Train Classification Report:\\n\", classification_report(y_train, y_train_pred))\n",
    "\n",
    "# Validation dataset \n",
    "y_valid_pred = log_reg_model.predict(x_valid)\n",
    "valid_acc = accuracy_score(y_valid, y_valid_pred)\n",
    "print(\"Validation Accuracy:\", round(valid_acc, 4))\n",
    "print(\"Validation Classification Report:\\n\", classification_report(y_valid, y_valid_pred))\n",
    "\n",
    "# Test dataset \n",
    "y_test_pred = log_reg_model.predict(x_test)\n",
    "test_acc = accuracy_score(y_test, y_test_pred)\n",
    "print(\"Test Accuracy:\", round(test_acc, 4))\n",
    "print(\"Test Classification Report:\\n\", classification_report(y_test, y_test_pred))"
   ]
  },
  {
   "cell_type": "markdown",
   "id": "18f413eb",
   "metadata": {},
   "source": [
    "Building a Neural Net using tensorflow"
   ]
  },
  {
   "cell_type": "code",
   "execution_count": null,
   "id": "e1cbfcaa",
   "metadata": {},
   "outputs": [],
   "source": [
    "# visualize loss and accuracy\n",
    "def plot_loss(history):\n",
    "    matplotlib.pyplot.plot(history.history['loss'], label='loss')\n",
    "    matplotlib.pyplot.plot(history.history['val_loss'], label='val_loss')\n",
    "    matplotlib.pyplot.xlabel('Epoch')\n",
    "    matplotlib.pyplot.ylabel('Binary Crossentropy')\n",
    "    matplotlib.pyplot.legend()\n",
    "    matplotlib.pyplot.grid(True)\n",
    "    matplotlib.pyplot.show()\n",
    "\n",
    "def plot_accuracy(history):\n",
    "    matplotlib.pyplot.plot(history.history['accuracy'], label='accuracy')\n",
    "    matplotlib.pyplot.plot(history.history['val_accuracy'], label='val_accuracy')\n",
    "    matplotlib.pyplot.xlabel('Epoch')\n",
    "    matplotlib.pyplot.ylabel('Accuracy')\n",
    "    matplotlib.pyplot.legend()\n",
    "    matplotlib.pyplot.grid(True)\n",
    "    matplotlib.pyplot.show()"
   ]
  },
  {
   "cell_type": "code",
   "execution_count": null,
   "id": "33b5d084",
   "metadata": {},
   "outputs": [],
   "source": [
    "features = 8\n",
    "# num_nodes = 17 #2n+1 n=num of features\n",
    "\n",
    "# build a function which can be called to train different FNN models with different arguments so that the best can be found\n",
    "def train_model(x_train, y_train, num_nodes, dropout_prob, learning_rate, batch_size, epochs):\n",
    "    fnn_model = tensorflow.keras.Sequential([\n",
    "            tensorflow.keras.layers.Input(shape=(features,)),  # hyperparameters, tuple\n",
    "            tensorflow.keras.layers.Dropout(dropout_prob),\n",
    "            tensorflow.keras.layers.Dense(num_nodes, activation='relu'),\n",
    "            tensorflow.keras.layers.Dense(num_nodes, activation='relu', ),\n",
    "            tensorflow.keras.layers.Dense(1, activation='sigmoid') # can easily round this to (0, or 1)\n",
    "        ])\n",
    "\n",
    "    fnn_model.compile(optimizer=tensorflow.keras.optimizers.Adam(learning_rate), \n",
    "                      loss='binary_crossentropy',\n",
    "                    metrics=['accuracy']) #Optimizers will adjust the weight of the model based on loss function hence +accuracy\n",
    "\n",
    "    history = fnn_model.fit(x_train, y_train, epochs=epochs, batch_size=batch_size, validation_data=(x_valid, y_valid), verbose=0)\n",
    "\n",
    "    return fnn_model, history"
   ]
  },
  {
   "cell_type": "code",
   "execution_count": null,
   "id": "6a9a98e8",
   "metadata": {},
   "outputs": [
    {
     "name": "stdout",
     "output_type": "stream",
     "text": [
      " validation loss is 1.4957128763198853, validation accuracy is 0.7142857313156128\n",
      "17 nodes, 0.0 dropout, 0.01 learning rate, 128 batch size\n",
      " validation loss is 1.0421090126037598, validation accuracy is 0.7337662577629089\n",
      "17 nodes, 0.2 dropout, 0.005 learning rate, 64 batch size\n",
      " validation loss is 0.560004711151123, validation accuracy is 0.7337662577629089\n",
      "17 nodes, 0.2 dropout, 0.005 learning rate, 128 batch size\n",
      " validation loss is 0.5501208901405334, validation accuracy is 0.7402597665786743\n",
      "17 nodes, 0.2 dropout, 0.001 learning rate, 64 batch size\n",
      " validation loss is 0.5135273933410645, validation accuracy is 0.7337662577629089\n",
      "17 nodes, 0.2 dropout, 0.001 learning rate, 128 batch size\n",
      " validation loss is 0.5454038977622986, validation accuracy is 0.7402597665786743\n",
      "17 nodes, 0.2 dropout, 0.01 learning rate, 64 batch size\n",
      " validation loss is 0.5821401476860046, validation accuracy is 0.7662337422370911\n",
      "17 nodes, 0.2 dropout, 0.01 learning rate, 128 batch size\n",
      " validation loss is 0.5967998504638672, validation accuracy is 0.7467532753944397\n",
      "64 nodes, 0.0 dropout, 0.005 learning rate, 64 batch size\n",
      " validation loss is 2.0631325244903564, validation accuracy is 0.7077922224998474\n",
      "64 nodes, 0.0 dropout, 0.005 learning rate, 128 batch size\n",
      " validation loss is 1.6805329322814941, validation accuracy is 0.7467532753944397\n",
      "64 nodes, 0.0 dropout, 0.001 learning rate, 64 batch size\n",
      " validation loss is 0.7591536641120911, validation accuracy is 0.7597402334213257\n",
      "64 nodes, 0.0 dropout, 0.001 learning rate, 128 batch size\n",
      " validation loss is 0.6549299955368042, validation accuracy is 0.7792207598686218\n",
      "64 nodes, 0.0 dropout, 0.01 learning rate, 64 batch size\n",
      " validation loss is 2.6263644695281982, validation accuracy is 0.7272727489471436\n",
      "64 nodes, 0.0 dropout, 0.01 learning rate, 128 batch size\n",
      " validation loss is 2.4939804077148438, validation accuracy is 0.7077922224998474\n",
      "64 nodes, 0.2 dropout, 0.005 learning rate, 64 batch size\n",
      " validation loss is 0.6380298137664795, validation accuracy is 0.7467532753944397\n",
      "64 nodes, 0.2 dropout, 0.005 learning rate, 128 batch size\n",
      " validation loss is 0.6582034230232239, validation accuracy is 0.7402597665786743\n",
      "64 nodes, 0.2 dropout, 0.001 learning rate, 64 batch size\n",
      " validation loss is 0.5622870326042175, validation accuracy is 0.7402597665786743\n",
      "64 nodes, 0.2 dropout, 0.001 learning rate, 128 batch size\n",
      " validation loss is 0.5414264798164368, validation accuracy is 0.7532467246055603\n",
      "64 nodes, 0.2 dropout, 0.01 learning rate, 64 batch size\n",
      " validation loss is 0.7062258124351501, validation accuracy is 0.7207792401313782\n",
      "64 nodes, 0.2 dropout, 0.01 learning rate, 128 batch size\n",
      " validation loss is 0.7125626802444458, validation accuracy is 0.7207792401313782\n"
     ]
    }
   ],
   "source": [
    "# grid to find best model out of many trained models\n",
    "\n",
    "least_val_loss = float('inf')\n",
    "least_loss_model = None\n",
    "epochs = 100\n",
    "\n",
    "for num_nodes in [17, 64]:\n",
    "    for dropout_prob in [0.0, 0.2]:\n",
    "        for learning_rate in [0.005, 0.001, 0.01]:\n",
    "            for batch_size in [64, 128]:\n",
    "                print(f\"{num_nodes} nodes, {dropout_prob} dropout, {learning_rate} learning rate, {batch_size} batch size\")\n",
    "                model, history = train_model(\n",
    "                    x_train, y_train,\n",
    "                    num_nodes=num_nodes,\n",
    "                    dropout_prob=dropout_prob,\n",
    "                    learning_rate=learning_rate,\n",
    "                    batch_size=batch_size,\n",
    "                    epochs=epochs\n",
    "                )\n",
    "\n",
    "                # plot_loss(history)\n",
    "                # plot_accuracy(history)\n",
    "\n",
    "                validation_loss, validation_acc = model.evaluate(x_valid, y_valid, verbose=0)\n",
    "                print(f\" validation loss is {validation_loss}, validation accuracy is {validation_acc}\")\n",
    "\n",
    "                # keep best \n",
    "                if validation_loss < least_val_loss:\n",
    "                    least_val_loss = validation_loss\n",
    "                    least_loss_model = model\n"
   ]
  },
  {
   "cell_type": "code",
   "execution_count": null,
   "id": "44ba32d1",
   "metadata": {},
   "outputs": [
    {
     "name": "stdout",
     "output_type": "stream",
     "text": [
      "Final Model Classification Report\n",
      "              precision    recall  f1-score   support\n",
      "\n",
      "           0       0.89      0.59      0.71        54\n",
      "           1       0.46      0.83      0.59        23\n",
      "\n",
      "    accuracy                           0.66        77\n",
      "   macro avg       0.68      0.71      0.65        77\n",
      "weighted avg       0.76      0.66      0.68        77\n",
      "\n"
     ]
    }
   ],
   "source": [
    "# final test run with the best model\n",
    "y_prob = least_loss_model.predict(x_test, verbose=0).ravel()\n",
    "y_pred = (y_prob >= 0.5).astype(int).reshape(-1,) # round to 0 or 1. threshold=0.5\n",
    "\n",
    "print(\"Final Model Classification Score\")\n",
    "print(classification_report(y_test, y_pred, zero_division=0))"
   ]
  }
 ],
 "metadata": {
  "kernelspec": {
   "display_name": "Python 3",
   "language": "python",
   "name": "python3"
  },
  "language_info": {
   "codemirror_mode": {
    "name": "ipython",
    "version": 3
   },
   "file_extension": ".py",
   "mimetype": "text/x-python",
   "name": "python",
   "nbconvert_exporter": "python",
   "pygments_lexer": "ipython3",
   "version": "3.12.1"
  }
 },
 "nbformat": 4,
 "nbformat_minor": 5
}
